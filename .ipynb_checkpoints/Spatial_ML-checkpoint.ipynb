{
 "cells": [
  {
   "cell_type": "markdown",
   "metadata": {},
   "source": [
    "# Machine learning and geo data"
   ]
  },
  {
   "cell_type": "markdown",
   "metadata": {},
   "source": [
    "## Getting data - Gowalla dataset"
   ]
  },
  {
   "cell_type": "code",
   "execution_count": 2,
   "metadata": {
    "ExecuteTime": {
     "end_time": "2017-02-14T23:49:06.183874",
     "start_time": "2017-02-14T23:49:06.176794"
    },
    "collapsed": false
   },
   "outputs": [],
   "source": [
    "import numpy as np\n",
    "np.random.seed(1337)\n",
    "\n",
    "import os\n",
    "datadir = './data'\n",
    "if not os.path.exists(datadir):\n",
    "    os.mkdir(datadir)\n",
    "\n",
    "url = 'https://snap.stanford.edu/data/loc-gowalla_totalCheckins.txt.gz' \n",
    "filename = os.path.join(datadir, 'loc-gowalla_totalCheckins.txt.gz')\n",
    "\n",
    "if not os.path.isfile(filename):\n",
    "    import wget\n",
    "    wget.download(url, out=filename)"
   ]
  },
  {
   "cell_type": "code",
   "execution_count": 3,
   "metadata": {
    "ExecuteTime": {
     "end_time": "2017-02-14T23:49:21.233956",
     "start_time": "2017-02-14T23:49:21.215162"
    },
    "collapsed": false
   },
   "outputs": [],
   "source": [
    "## Fetch The venue names [2] in New York City \n",
    "from __future__ import unicode_literals\n",
    "url = 'https://storage.googleapis.com/google-code-archive-downloads/v2/code.google.com/locrec/gowalla-dataset.zip' \n",
    "\n",
    "src_filename = os.path.join(datadir, 'gowalla-dataset.zip')\n",
    "trg_filename = os.path.join(datadir, 'gowalla_venues.csv') # data/gowalla_venues.csv\n",
    "import sys  \n",
    "\n",
    "reload(sys)  \n",
    "sys.setdefaultencoding('utf8')\n",
    "if not os.path.isfile(trg_filename):\n",
    "    import shutil\n",
    "    import zipfile\n",
    "    import re\n",
    "    # download\n",
    "    #wget.download(url, out=src_filename)\n",
    "\n",
    "    #extract\n",
    "    zf = zipfile.ZipFile(src_filename, 'r')\n",
    "    print \"src: \", src_filename\n",
    "    extracted_file = zf.extract('gowalla-dataset/spots.txt', datadir)\n",
    "    print \"Extracted file:\",str(extracted_file)\n",
    "    #tmp_filename = shutil.copy(extracted_file, datadir) # extracfile -> ./data/\n",
    "    tmp_filename = \"data/spots.txt\"\n",
    "    shutil.rmtree(os.path.dirname(extracted_file))\n",
    "\n",
    "    #preprocess\n",
    "    regex = re.compile(r'POINT\\((\\-?\\d+\\.\\d+)\\s+(\\-?\\d+\\.\\d+)\\)')\n",
    "\n",
    "    with open(tmp_filename, \"r\") as src, \\\n",
    "         open(trg_filename, \"w\") as dst  :\n",
    "\n",
    "        next(src) \n",
    "        for line in src: \n",
    "            dst.write(regex.sub(r'\\2\\t\\1', line))\n",
    "\n",
    "    #cleanup\n",
    "    os.remove(src_filename)\n",
    "    os.remove(tmp_filename)"
   ]
  },
  {
   "cell_type": "markdown",
   "metadata": {},
   "source": [
    "## Data preparation"
   ]
  },
  {
   "cell_type": "code",
   "execution_count": 4,
   "metadata": {
    "ExecuteTime": {
     "end_time": "2017-02-14T23:49:37.523577",
     "start_time": "2017-02-14T23:49:23.447056"
    },
    "collapsed": false
   },
   "outputs": [
    {
     "data": {
      "text/html": [
       "<div>\n",
       "<table border=\"1\" class=\"dataframe\">\n",
       "  <thead>\n",
       "    <tr style=\"text-align: right;\">\n",
       "      <th></th>\n",
       "      <th>uid</th>\n",
       "      <th>timestamp</th>\n",
       "      <th>lat</th>\n",
       "      <th>lon</th>\n",
       "      <th>vid</th>\n",
       "    </tr>\n",
       "  </thead>\n",
       "  <tbody>\n",
       "    <tr>\n",
       "      <th>0</th>\n",
       "      <td>0</td>\n",
       "      <td>2010-10-19T23:55:27Z</td>\n",
       "      <td>30.235909</td>\n",
       "      <td>-97.795140</td>\n",
       "      <td>22847</td>\n",
       "    </tr>\n",
       "    <tr>\n",
       "      <th>1</th>\n",
       "      <td>0</td>\n",
       "      <td>2010-10-18T22:17:43Z</td>\n",
       "      <td>30.269103</td>\n",
       "      <td>-97.749395</td>\n",
       "      <td>420315</td>\n",
       "    </tr>\n",
       "    <tr>\n",
       "      <th>2</th>\n",
       "      <td>0</td>\n",
       "      <td>2010-10-17T23:42:03Z</td>\n",
       "      <td>30.255731</td>\n",
       "      <td>-97.763386</td>\n",
       "      <td>316637</td>\n",
       "    </tr>\n",
       "    <tr>\n",
       "      <th>3</th>\n",
       "      <td>0</td>\n",
       "      <td>2010-10-17T19:26:05Z</td>\n",
       "      <td>30.263418</td>\n",
       "      <td>-97.757597</td>\n",
       "      <td>16516</td>\n",
       "    </tr>\n",
       "    <tr>\n",
       "      <th>4</th>\n",
       "      <td>0</td>\n",
       "      <td>2010-10-16T18:50:42Z</td>\n",
       "      <td>30.274292</td>\n",
       "      <td>-97.740523</td>\n",
       "      <td>5535878</td>\n",
       "    </tr>\n",
       "  </tbody>\n",
       "</table>\n",
       "</div>"
      ],
      "text/plain": [
       "   uid             timestamp        lat        lon      vid\n",
       "0    0  2010-10-19T23:55:27Z  30.235909 -97.795140    22847\n",
       "1    0  2010-10-18T22:17:43Z  30.269103 -97.749395   420315\n",
       "2    0  2010-10-17T23:42:03Z  30.255731 -97.763386   316637\n",
       "3    0  2010-10-17T19:26:05Z  30.263418 -97.757597    16516\n",
       "4    0  2010-10-16T18:50:42Z  30.274292 -97.740523  5535878"
      ]
     },
     "execution_count": 4,
     "metadata": {},
     "output_type": "execute_result"
    }
   ],
   "source": [
    "import pandas as pd\n",
    "\n",
    "filename = os.path.join(datadir, 'loc-gowalla_totalCheckins.txt.gz')\n",
    "\n",
    "dfe = pd.read_csv(filename, sep='\\t', header=None)\n",
    "dfe.columns = ['uid','timestamp','lat','lon','vid']\n",
    "dfe.head()"
   ]
  },
  {
   "cell_type": "code",
   "execution_count": null,
   "metadata": {
    "collapsed": true
   },
   "outputs": [],
   "source": []
  }
 ],
 "metadata": {
  "anaconda-cloud": {},
  "hide_input": false,
  "kernelspec": {
   "display_name": "Python [default]",
   "language": "python",
   "name": "python2"
  },
  "language_info": {
   "codemirror_mode": {
    "name": "ipython",
    "version": 2
   },
   "file_extension": ".py",
   "mimetype": "text/x-python",
   "name": "python",
   "nbconvert_exporter": "python",
   "pygments_lexer": "ipython2",
   "version": "2.7.12"
  }
 },
 "nbformat": 4,
 "nbformat_minor": 1
}
